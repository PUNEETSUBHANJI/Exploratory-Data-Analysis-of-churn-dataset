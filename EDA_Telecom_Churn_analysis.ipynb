{
  "nbformat": 4,
  "nbformat_minor": 0,
  "metadata": {
    "colab": {
      "provenance": [],
      "authorship_tag": "ABX9TyP7dCJhcvN8kwiFIZpMkg2h",
      "include_colab_link": true
    },
    "kernelspec": {
      "name": "python3",
      "display_name": "Python 3"
    },
    "language_info": {
      "name": "python"
    }
  },
  "cells": [
    {
      "cell_type": "markdown",
      "metadata": {
        "id": "view-in-github",
        "colab_type": "text"
      },
      "source": [
        "<a href=\"https://colab.research.google.com/github/PUNEETSUBHANJI/Exploratory-Data-Analysis-of-churn-dataset/blob/main/EDA_Telecom_Churn_analysis.ipynb\" target=\"_parent\"><img src=\"https://colab.research.google.com/assets/colab-badge.svg\" alt=\"Open In Colab\"/></a>"
      ]
    },
    {
      "cell_type": "markdown",
      "source": [
        "#Exploratory Data Analysis of churn dataset"
      ],
      "metadata": {
        "id": "Webpm9nkoCmD"
      }
    },
    {
      "cell_type": "markdown",
      "source": [
        "#***Problem Statement***"
      ],
      "metadata": {
        "id": "uvEKrqJsoFjq"
      }
    },
    {
      "cell_type": "markdown",
      "source": [
        "#**Orange S.A., formerly France Télécom S.A., is a French multinational telecommunications corporation. The Orange Telecom's Churn Dataset, consists of cleaned customer activity data (features), along with a churn label specifying whether a customer canceled the subscription.**\n",
        "#**Explore and analyze the data to discover key factors responsible for customer churn and come up with ways/recommendations to ensure customer retention.** "
      ],
      "metadata": {
        "id": "oo3cg4WGoqut"
      }
    },
    {
      "cell_type": "markdown",
      "source": [
        "#**Loading Data and Importing Modules**"
      ],
      "metadata": {
        "id": "uhGZiy_QpZEC"
      }
    },
    {
      "cell_type": "code",
      "source": [
        "# Mounting drive\n",
        "from google.colab import drive\n",
        "drive.mount('/content/drive')"
      ],
      "metadata": {
        "colab": {
          "base_uri": "https://localhost:8080/"
        },
        "id": "R3ZRpbG2nn_K",
        "outputId": "8ee895c9-5ad6-43c1-c913-5b1a547764e4"
      },
      "execution_count": 1,
      "outputs": [
        {
          "output_type": "stream",
          "name": "stdout",
          "text": [
            "Mounted at /content/drive\n"
          ]
        }
      ]
    },
    {
      "cell_type": "code",
      "execution_count": 2,
      "metadata": {
        "id": "VabsQnfMcdj8"
      },
      "outputs": [],
      "source": [
        "# Importing modules\n",
        "import pandas as pd\n",
        "import numpy as np\n",
        "import matplotlib.pyplot as plt\n",
        "import seaborn as sns\n",
        "%matplotlib inline\n",
        "import warnings; warnings.simplefilter('ignore')"
      ]
    },
    {
      "cell_type": "code",
      "source": [
        "#Loading the Data\n",
        "tele_churn_df = pd.read_csv('/content/drive/MyDrive/Projects- Almabetter_Puneet/Telecom Churn.csv')"
      ],
      "metadata": {
        "id": "OBOZ5Uu8hk4J"
      },
      "execution_count": 3,
      "outputs": []
    }
  ]
}